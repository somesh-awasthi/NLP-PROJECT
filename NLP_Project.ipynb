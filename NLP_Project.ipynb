{
  "nbformat": 4,
  "nbformat_minor": 0,
  "metadata": {
    "colab": {
      "provenance": [],
      "mount_file_id": "194bkcHWVZaSSSxYUQWviY92Fvix7-LI1",
      "authorship_tag": "ABX9TyNjzMWOSwEnXTaJXNcJICgu",
      "include_colab_link": true
    },
    "kernelspec": {
      "name": "python3",
      "display_name": "Python 3"
    },
    "language_info": {
      "name": "python"
    }
  },
  "cells": [
    {
      "cell_type": "markdown",
      "metadata": {
        "id": "view-in-github",
        "colab_type": "text"
      },
      "source": [
        "<a href=\"https://colab.research.google.com/github/somesh-awasthi/NLP-PROJECT/blob/main/NLP_Project.ipynb\" target=\"_parent\"><img src=\"https://colab.research.google.com/assets/colab-badge.svg\" alt=\"Open In Colab\"/></a>"
      ]
    },
    {
      "cell_type": "code",
      "execution_count": 33,
      "metadata": {
        "id": "xY5NZz8KDnKM"
      },
      "outputs": [],
      "source": [
        "%%capture\n",
        "!pip install ctransformers==0.2.27 sentence-transformers==2.5.1 chromadb==0.4.24 langchain==0.1.11 PyPDF\n",
        "\n",
        "#linking my drive with my notebook & giving the data path\n",
        "from google.colab import drive\n",
        "drive.mount(\"/content/drive\")\n",
        "path=\"/content/drive/MyDrive/Colab Notebooks/data\"\n",
        "\n",
        "import chromadb\n",
        "from langchain import PromptTemplate\n",
        "from langchain.chains import RetrievalQA\n",
        "from langchain.embeddings import HuggingFaceEmbeddings\n",
        "from langchain.vectorstores import Chroma\n",
        "# from langchain_community.embeddings.openai import OpenAIEmbeddings\n",
        "from langchain.document_loaders import PyPDFLoader, DirectoryLoader, TextLoader\n",
        "from langchain.text_splitter import RecursiveCharacterTextSplitter\n",
        "from langchain.prompts import PromptTemplate\n",
        "from langchain.llms import CTransformers"
      ]
    },
    {
      "cell_type": "code",
      "source": [
        "#loading data\n",
        "def load_data(data):\n",
        "    loader = DirectoryLoader(data,# glob=\"*.pdf\",\n",
        "                    glob=\"symp.pdf\",\n",
        "                    loader_cls=PyPDFLoader)\n",
        "\n",
        "    documents = loader.load()\n",
        "\n",
        "    return documents\n",
        "doc=load_data(path)"
      ],
      "metadata": {
        "id": "Y9BrmCxFVdG2"
      },
      "execution_count": 34,
      "outputs": []
    },
    {
      "cell_type": "code",
      "source": [
        "#Create text chunks\n",
        "def text_split(data):\n",
        "    splitted_text = RecursiveCharacterTextSplitter(chunk_size = 500, chunk_overlap = 20)\n",
        "    chunk = splitted_text.split_documents(data)\n",
        "\n",
        "    return chunk\n",
        "chunk = text_split(doc)\n",
        "print(\"length of my chunk:\", len(chunk))"
      ],
      "metadata": {
        "colab": {
          "base_uri": "https://localhost:8080/"
        },
        "id": "D0fq8Qq1ILGM",
        "outputId": "f593bb5a-80c9-4342-da76-85bcb99f87c9"
      },
      "execution_count": 35,
      "outputs": [
        {
          "output_type": "stream",
          "name": "stdout",
          "text": [
            "length of my chunk: 350\n"
          ]
        }
      ]
    },
    {
      "cell_type": "code",
      "source": [
        "#embedding model\n",
        "def model():\n",
        "    embedding = HuggingFaceEmbeddings(model_name=\"sentence-transformers/all-MiniLM-L6-v2\")\n",
        "    return embedding\n",
        "embedding = model()\n",
        "embedding"
      ],
      "metadata": {
        "colab": {
          "base_uri": "https://localhost:8080/"
        },
        "id": "VtYfzDnoDhxE",
        "outputId": "946d66a4-cb8d-4278-ffd3-2f5337456ecf"
      },
      "execution_count": 36,
      "outputs": [
        {
          "output_type": "execute_result",
          "data": {
            "text/plain": [
              "HuggingFaceEmbeddings(client=SentenceTransformer(\n",
              "  (0): Transformer({'max_seq_length': 256, 'do_lower_case': False}) with Transformer model: BertModel \n",
              "  (1): Pooling({'word_embedding_dimension': 384, 'pooling_mode_cls_token': False, 'pooling_mode_mean_tokens': True, 'pooling_mode_max_tokens': False, 'pooling_mode_mean_sqrt_len_tokens': False, 'pooling_mode_weightedmean_tokens': False, 'pooling_mode_lasttoken': False, 'include_prompt': True})\n",
              "  (2): Normalize()\n",
              "), model_name='sentence-transformers/all-MiniLM-L6-v2', cache_folder=None, model_kwargs={}, encode_kwargs={}, multi_process=False, show_progress=False)"
            ]
          },
          "metadata": {},
          "execution_count": 36
        }
      ]
    },
    {
      "cell_type": "code",
      "source": [
        "# Creating vector db to store Embeddings\n",
        "persist_directory = \"vectordb\"\n",
        "vectordb = Chroma.from_documents(documents=chunk, embedding=embedding, persist_directory=persist_directory)"
      ],
      "metadata": {
        "id": "Yjv4D_SGJUgc"
      },
      "execution_count": 46,
      "outputs": []
    }
  ]
}